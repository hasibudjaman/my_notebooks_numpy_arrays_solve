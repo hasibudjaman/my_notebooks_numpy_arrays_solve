{
 "cells": [
  {
   "cell_type": "code",
   "execution_count": 5,
   "id": "8ca57f0b-bb2b-4a8b-88e3-fbc5367d4406",
   "metadata": {},
   "outputs": [
    {
     "name": "stdout",
     "output_type": "stream",
     "text": [
      "[ 1 23  5 56  7  6]\n",
      "<class 'numpy.ndarray'>\n"
     ]
    }
   ],
   "source": [
    " import numpy as np\n",
    "x=np.array([1,23,5,56,7,6])\n",
    "print(x)\n",
    "print(type(x))"
   ]
  },
  {
   "cell_type": "code",
   "execution_count": 6,
   "id": "6c5e9395-3e4b-4f1d-9b90-56cac11f1912",
   "metadata": {},
   "outputs": [
    {
     "name": "stdout",
     "output_type": "stream",
     "text": [
      "<class 'list'>\n"
     ]
    }
   ],
   "source": [
    "y=[1,23,5,56,7,6]\n",
    "print(type(y))"
   ]
  },
  {
   "cell_type": "code",
   "execution_count": 7,
   "id": "744387ce-6bc2-46f4-88b8-3c1282034de1",
   "metadata": {},
   "outputs": [
    {
     "name": "stdout",
     "output_type": "stream",
     "text": [
      "472 ns ± 37.8 ns per loop (mean ± std. dev. of 7 runs, 1,000,000 loops each)\n"
     ]
    }
   ],
   "source": [
    "%timeit [j**4 for j in range(1,9)]"
   ]
  },
  {
   "cell_type": "code",
   "execution_count": null,
   "id": "8a3956af-7576-4bd4-8556-770e6eb43b34",
   "metadata": {},
   "outputs": [],
   "source": [
    "import numpy as np\n",
    "%timeit"
   ]
  },
  {
   "cell_type": "code",
   "execution_count": 2,
   "id": "880a64d3-7a65-4b7e-93af-435f7a96c959",
   "metadata": {},
   "outputs": [
    {
     "name": "stdout",
     "output_type": "stream",
     "text": [
      "<class 'numpy.ndarray'>\n"
     ]
    }
   ],
   "source": [
    "\n",
    "import numpy as np\n",
    "x=[1,2,3,4,5]\n",
    "y=np.array(x)\n",
    "print(type(y))"
   ]
  },
  {
   "cell_type": "markdown",
   "id": "463fcce8-bd6d-4ac3-9c66-c399fc6fe0d7",
   "metadata": {},
   "source": [
    "# for loop er mardhome list input and nympy array te conversion"
   ]
  },
  {
   "cell_type": "code",
   "execution_count": 5,
   "id": "c0ae4df5-3a09-4c34-8e2b-c33f0baa8262",
   "metadata": {},
   "outputs": [
    {
     "name": "stdin",
     "output_type": "stream",
     "text": [
      "enter 5544\n",
      "enter 445\n",
      "enter 44\n",
      "enter 4\n"
     ]
    },
    {
     "name": "stdout",
     "output_type": "stream",
     "text": [
      "[5544, 445, 44, 4]\n",
      "[5544  445   44    4]\n"
     ]
    }
   ],
   "source": [
    "# for loop er mardhome list input and nympy array te conversion\n",
    "l=[]\n",
    "for i in range(1,5):\n",
    "    x=int(input(\"enter\"))\n",
    "    l.append(x)\n",
    "    \n",
    "print(l)\n",
    "print(np.array(l))\n",
    "    \n",
    "    \n",
    "    "
   ]
  },
  {
   "cell_type": "code",
   "execution_count": 43,
   "id": "0a08cd50-e7df-4898-8967-1643b3a30409",
   "metadata": {},
   "outputs": [
    {
     "name": "stdout",
     "output_type": "stream",
     "text": [
      "[[23 45 43]\n",
      " [43 22 45]]\n",
      "2\n"
     ]
    }
   ],
   "source": [
    "#any  dimension in arrays create\n",
    "arr2=np.array([[23,45,43],[43,22,45]])\n",
    "print(arr2)\n",
    "print(arr2.ndim)"
   ]
  },
  {
   "cell_type": "code",
   "execution_count": 16,
   "id": "0a619490-b63d-4d0b-85a9-e34088f8de4f",
   "metadata": {},
   "outputs": [
    {
     "name": "stdout",
     "output_type": "stream",
     "text": [
      "[[[23 45 43]\n",
      "  [43 22 45]\n",
      "  [34 54 33]]]\n",
      "3\n"
     ]
    }
   ],
   "source": [
    "    arr3=np.array([[[23,45,43],[43,22,45],[34,54,33]]])\n",
    "print(arr3)\n",
    "print(arr3.ndim)"
   ]
  },
  {
   "cell_type": "code",
   "execution_count": 17,
   "id": "974c25c7-fb74-4c90-8723-04c120bc01bf",
   "metadata": {},
   "outputs": [
    {
     "name": "stdout",
     "output_type": "stream",
     "text": [
      "[[[[[[[[[[23 45 43]\n",
      "         [43 22 45]]]]]]]]]]\n",
      "10\n"
     ]
    }
   ],
   "source": [
    "arr2=np.array([[23,45,43],[43,22,45]],ndmin=10)\n",
    "print(arr2)\n",
    "print(arr2.ndim)"
   ]
  },
  {
   "cell_type": "code",
   "execution_count": null,
   "id": "f0a19f1a-2681-48b9-a838-aee281397c09",
   "metadata": {},
   "outputs": [],
   "source": [
    "l=[]\n",
    "for i in range(1,5):\n",
    "    x=int(input(\"enter\"))\n",
    "    l.append(x)\n",
    "    \n",
    "print(l)"
   ]
  },
  {
   "cell_type": "markdown",
   "id": "137c16dc-1ff6-4311-8314-8890e6cde17a",
   "metadata": {},
   "source": [
    "# ar_zero create"
   ]
  },
  {
   "cell_type": "code",
   "execution_count": 23,
   "id": "a2e0817f-420b-4c98-b00d-22d1174517ec",
   "metadata": {},
   "outputs": [
    {
     "name": "stdout",
     "output_type": "stream",
     "text": [
      "[[[0. 0. 0. 0. 0.]\n",
      "  [0. 0. 0. 0. 0.]]\n",
      "\n",
      " [[0. 0. 0. 0. 0.]\n",
      "  [0. 0. 0. 0. 0.]]\n",
      "\n",
      " [[0. 0. 0. 0. 0.]\n",
      "  [0. 0. 0. 0. 0.]]]\n"
     ]
    }
   ],
   "source": [
    "\n",
    "ar_zero=np.zeros(((3,2,5)))\n",
    "print(ar_zero)"
   ]
  },
  {
   "cell_type": "markdown",
   "id": "ea08f23b-9cb3-412b-bcbf-5cb4ee2d0920",
   "metadata": {},
   "source": [
    "# ar_empty create"
   ]
  },
  {
   "cell_type": "code",
   "execution_count": 27,
   "id": "7cc2f7aa-b87c-4967-b04a-52a72378739f",
   "metadata": {},
   "outputs": [
    {
     "name": "stdout",
     "output_type": "stream",
     "text": [
      "[[1. 1. 1. 1. 1. 1.]\n",
      " [1. 1. 1. 1. 1. 1.]\n",
      " [1. 1. 1. 1. 1. 1.]]\n"
     ]
    }
   ],
   "source": [
    "# ar_ones create\n",
    "ar_ones=np.ones((3,6))\n",
    "print(ar_ones)"
   ]
  },
  {
   "cell_type": "code",
   "execution_count": 29,
   "id": "d659b0d9-b6e2-46bf-bc31-467649dc3db2",
   "metadata": {},
   "outputs": [
    {
     "name": "stdout",
     "output_type": "stream",
     "text": [
      "[2.739e-320 2.199e-321 2.174e-322 1.976e-323]\n"
     ]
    }
   ],
   "source": [
    "ar_empty=np.empty(4)\n",
    "print(ar_empty)"
   ]
  },
  {
   "cell_type": "code",
   "execution_count": 30,
   "id": "7d33a421-08e0-4a13-947a-2b95bbc3d073",
   "metadata": {},
   "outputs": [
    {
     "name": "stdout",
     "output_type": "stream",
     "text": [
      "[0 1 2 3 4]\n"
     ]
    }
   ],
   "source": [
    "# ar_range \n",
    "ar_range=np.arange(5)\n",
    "print(ar_range)"
   ]
  },
  {
   "cell_type": "markdown",
   "id": "6e4ecf1a-8f7d-47ad-b79f-0e7a60a0ed61",
   "metadata": {},
   "source": [
    "# diagonal element one \n",
    "ar_diagonal=np.eye(3,4)\n",
    "print(ar_diagonal)"
   ]
  },
  {
   "cell_type": "code",
   "execution_count": 34,
   "id": "b5acfc76-f2fe-4490-baa7-827d0ea0f9ee",
   "metadata": {},
   "outputs": [
    {
     "name": "stdout",
     "output_type": "stream",
     "text": [
      "[[1. 0. 0. 0.]\n",
      " [0. 1. 0. 0.]\n",
      " [0. 0. 1. 0.]\n",
      " [0. 0. 0. 1.]]\n"
     ]
    }
   ],
   "source": [
    "ar_diagonal=np.eye(4)\n",
    "print(ar_diagonal)"
   ]
  },
  {
   "cell_type": "markdown",
   "id": "0e249dbe-523e-493d-9fec-400015cd3b2e",
   "metadata": {},
   "source": [
    "# linspace"
   ]
  },
  {
   "cell_type": "code",
   "execution_count": 42,
   "id": "def3a180-8492-4e06-8449-313875845a76",
   "metadata": {},
   "outputs": [
    {
     "name": "stdout",
     "output_type": "stream",
     "text": [
      "[ 0.  5. 10. 15. 20.]\n"
     ]
    }
   ],
   "source": [
    "ar_lin=np.linspace(0,20,5)\n",
    "\n",
    "print(ar_lin)"
   ]
  },
  {
   "cell_type": "markdown",
   "id": "0c252da8-ca72-48ff-9226-e7223aa687f3",
   "metadata": {},
   "source": [
    "# random functon()"
   ]
  },
  {
   "cell_type": "code",
   "execution_count": 45,
   "id": "077d273c-5b73-4b8f-a850-c64c9fa5feea",
   "metadata": {},
   "outputs": [
    {
     "name": "stdout",
     "output_type": "stream",
     "text": [
      "[0.37669248 0.77249205 0.01918857 0.77722437 0.89417832]\n"
     ]
    }
   ],
   "source": [
    "import numpy as np\n",
    "var=np.random.rand(5)\n",
    "print(var)"
   ]
  },
  {
   "cell_type": "code",
   "execution_count": 46,
   "id": "146e39aa-54ab-4756-a829-175601345603",
   "metadata": {},
   "outputs": [
    {
     "name": "stdout",
     "output_type": "stream",
     "text": [
      "[[0.67518301 0.73591804 0.86691804 0.00753199 0.42454665]\n",
      " [0.48690064 0.71333235 0.8837057  0.49348062 0.67197233]\n",
      " [0.54569361 0.79639182 0.93700826 0.97077128 0.69908304]\n",
      " [0.46711795 0.07525735 0.62670902 0.73828725 0.20460148]]\n"
     ]
    }
   ],
   "source": [
    "import numpy as np\n",
    "var=np.random.rand(4,5)\n",
    "print(var)"
   ]
  },
  {
   "cell_type": "code",
   "execution_count": 48,
   "id": "bd22782a-43a2-4cfe-b53f-b6d4eb9d0d9c",
   "metadata": {},
   "outputs": [
    {
     "name": "stdout",
     "output_type": "stream",
     "text": [
      "[-2.63268616 -0.86041239  1.72145099  0.64669364 -2.36670339]\n"
     ]
    }
   ],
   "source": [
    "import numpy as np\n",
    "var=np.random.randn(5)\n",
    "print(var)"
   ]
  },
  {
   "cell_type": "code",
   "execution_count": 49,
   "id": "bc57ce94-fe74-464e-b449-e6e02b606bb5",
   "metadata": {},
   "outputs": [
    {
     "name": "stdout",
     "output_type": "stream",
     "text": [
      "[0.5073955  0.33839266 0.32201926 0.95068174 0.63835824]\n"
     ]
    }
   ],
   "source": [
    " import numpy as np\n",
    "var=np.random.ranf(5)\n",
    "print(var)"
   ]
  },
  {
   "cell_type": "code",
   "execution_count": 51,
   "id": "7ec4310b-f13c-43b5-b539-e68f7223d04f",
   "metadata": {},
   "outputs": [
    {
     "name": "stdout",
     "output_type": "stream",
     "text": [
      "[22 18 10 18 14 13 13]\n"
     ]
    }
   ],
   "source": [
    "import numpy as np\n",
    "var=np.random.randint(5,23,7)\n",
    "print(var)"
   ]
  },
  {
   "cell_type": "markdown",
   "id": "56d6a746-88e4-4bbd-9e08-ded361278eb1",
   "metadata": {},
   "source": [
    "# numpy array data types"
   ]
  },
  {
   "cell_type": "code",
   "execution_count": 53,
   "id": "c6beb687-c2d7-4b96-a99a-d0b7ff54492e",
   "metadata": {},
   "outputs": [
    {
     "name": "stdout",
     "output_type": "stream",
     "text": [
      "data type :  int64\n"
     ]
    }
   ],
   "source": [
    "var=np.array([2,3,45,6])\n",
    "print(\"data type : \",var.dtype)"
   ]
  },
  {
   "cell_type": "code",
   "execution_count": 54,
   "id": "ce802484-bc4b-41c7-b43d-3d3c066598cf",
   "metadata": {},
   "outputs": [
    {
     "name": "stdout",
     "output_type": "stream",
     "text": [
      "data type :  float64\n"
     ]
    }
   ],
   "source": [
    "var=np.array([2.4,3.5,45.5,6.4])\n",
    "print(\"data type : \",var.dtype)"
   ]
  },
  {
   "cell_type": "code",
   "execution_count": 55,
   "id": "179364ff-846a-48a8-ab34-fa941c4a9aee",
   "metadata": {},
   "outputs": [
    {
     "name": "stdout",
     "output_type": "stream",
     "text": [
      "data type :  <U32\n"
     ]
    }
   ],
   "source": [
    "var=np.array([\"a\",3.5,45.5,\"6.4\"])\n",
    "print(\"data type : \",var.dtype)"
   ]
  },
  {
   "cell_type": "code",
   "execution_count": 56,
   "id": "6065b101-2ba9-4780-9886-53219419ac82",
   "metadata": {},
   "outputs": [
    {
     "name": "stdout",
     "output_type": "stream",
     "text": [
      "data type :  <U1\n"
     ]
    }
   ],
   "source": [
    "var=np.array(['g','h','g','t','e','r'])\n",
    "print(\"data type : \",var.dtype)"
   ]
  },
  {
   "cell_type": "code",
   "execution_count": 58,
   "id": "738293fa-b22b-4bfe-a157-470e8b95b9a8",
   "metadata": {},
   "outputs": [
    {
     "name": "stdout",
     "output_type": "stream",
     "text": [
      "data type :  int8\n"
     ]
    }
   ],
   "source": [
    "var=np.array([2,3,5,6],dtype=np.int8)\n",
    "print(\"data type : \",var.dtype)"
   ]
  },
  {
   "cell_type": "code",
   "execution_count": 66,
   "id": "7e972b5a-b23b-47a1-8800-feace57fe24e",
   "metadata": {},
   "outputs": [
    {
     "name": "stdout",
     "output_type": "stream",
     "text": [
      "data type :  int64\n",
      "data type :  float32\n"
     ]
    }
   ],
   "source": [
    "var=np.array([2,3,5,6])\n",
    "new=np.float32(var)\n",
    "print(\"data type : \",var.dtype)\n",
    "print(\"data type : \" ,new.dtype)"
   ]
  },
  {
   "cell_type": "code",
   "execution_count": 67,
   "id": "42aea4c1-8a9c-4401-b60f-1cb7acc05605",
   "metadata": {},
   "outputs": [
    {
     "name": "stdout",
     "output_type": "stream",
     "text": [
      "data type :  int32\n"
     ]
    }
   ],
   "source": [
    "var=np.array([2,3,5,6],dtype=np.int32)\n",
    "print(\"data type : \",var.dtype)"
   ]
  },
  {
   "cell_type": "code",
   "execution_count": 68,
   "id": "32b58284-c9f4-4a9a-97c9-8375a2417a40",
   "metadata": {},
   "outputs": [
    {
     "name": "stdout",
     "output_type": "stream",
     "text": [
      "data type :  float32\n",
      "data type :  float32\n"
     ]
    }
   ],
   "source": [
    "var=np.array([2,3,5,6],np.float32)\n",
    "\n",
    "print(\"data type : \",var.dtype)\n",
    "print(\"data type : \" ,new.dtype)"
   ]
  },
  {
   "cell_type": "markdown",
   "id": "87a471b9-b123-48b6-8b00-36ded2f09bf0",
   "metadata": {},
   "source": [
    " # arithmetic operation in numpy arrays "
   ]
  },
  {
   "cell_type": "code",
   "execution_count": 1,
   "id": "286d16d7-2371-4add-8178-f2e5b1cf9db1",
   "metadata": {},
   "outputs": [
    {
     "name": "stdout",
     "output_type": "stream",
     "text": [
      "[ 6  7  8  9 10]\n"
     ]
    }
   ],
   "source": [
    " import numpy as np\n",
    "var=np.array([3,4,5,6,7])\n",
    "var= var+3\n",
    "print(var)"
   ]
  },
  {
   "cell_type": "code",
   "execution_count": 9,
   "id": "9e9bf2c5-38c2-48d5-b8b0-61b29f0778dd",
   "metadata": {},
   "outputs": [
    {
     "name": "stdout",
     "output_type": "stream",
     "text": [
      "[ 6  8 10 12 14]\n",
      "[ 6  8 10 12 14]\n"
     ]
    }
   ],
   "source": [
    " import numpy as np\n",
    "var=np.array([3,4,5,6,7])\n",
    "var2=np.array([3,4,5,6,7])\n",
    "\n",
    "result=np.add(var,var2)\n",
    "print(result)\n",
    "var= var+var2\n",
    "print(var)"
   ]
  },
  {
   "cell_type": "code",
   "execution_count": 3,
   "id": "65f7290a-0c53-4f1f-90b7-14033c35d133",
   "metadata": {},
   "outputs": [
    {
     "name": "stdout",
     "output_type": "stream",
     "text": [
      "[ 9 12 15 18 21]\n"
     ]
    }
   ],
   "source": [
    "import numpy as np\n",
    "var=np.array([3,4,5,6,7])\n",
    "var= var*3\n",
    "print(var)"
   ]
  },
  {
   "cell_type": "code",
   "execution_count": 6,
   "id": "6e47f244-b9ff-4a57-b339-d9c6289777d8",
   "metadata": {},
   "outputs": [
    {
     "name": "stdout",
     "output_type": "stream",
     "text": [
      "[1.         1.33333333 1.66666667 2.         2.33333333]\n"
     ]
    }
   ],
   "source": [
    "import numpy as np\n",
    "var=np.array([3,4,5,6,7])\n",
    "var= var/3\n",
    "print(var)"
   ]
  },
  {
   "cell_type": "code",
   "execution_count": null,
   "id": "c056ff1e-0171-44fe-9189-add4f139d143",
   "metadata": {},
   "outputs": [],
   "source": [
    "import numpy as np\n",
    "var=np.array([3,4,5,6,7])\n",
    "var= var%3\n",
    "print(var)"
   ]
  },
  {
   "cell_type": "code",
   "execution_count": 12,
   "id": "c47c44a8-26f3-46f9-89d4-d26b761efa2a",
   "metadata": {},
   "outputs": [
    {
     "name": "stdout",
     "output_type": "stream",
     "text": [
      "[ 9 16 25 36 49]\n"
     ]
    }
   ],
   "source": [
    "import numpy as np\n",
    "var=np.array([3,4,5,6,7])\n",
    "var= np.pow(var,2)\n",
    "print(var)"
   ]
  },
  {
   "cell_type": "code",
   "execution_count": 16,
   "id": "0d3928db-3c6a-49e9-b6a7-da886e9240bf",
   "metadata": {},
   "outputs": [
    {
     "name": "stdout",
     "output_type": "stream",
     "text": [
      "[0.29411765 0.22222222 0.1754386  0.15873016 0.13157895]\n"
     ]
    }
   ],
   "source": [
    "import numpy as np\n",
    "var=np.array([3.4,4.5,5.7,6.3,7.6])\n",
    "var= np.reciprocal(var)\n",
    "print(var)"
   ]
  },
  {
   "cell_type": "markdown",
   "id": "a2951547-ff70-43ca-9bc9-31b3c9c4d9af",
   "metadata": {},
   "source": [
    "# arithmetic function in numpy"
   ]
  },
  {
   "cell_type": "code",
   "execution_count": 18,
   "id": "cbfb8713-0e1e-4553-93ce-5f07e6827e3c",
   "metadata": {},
   "outputs": [
    {
     "name": "stdout",
     "output_type": "stream",
     "text": [
      "min : 1\n",
      "max : 45\n"
     ]
    }
   ],
   "source": [
    "import numpy as np\n",
    "var=np.array([1,2,3,45,5,6,7])\n",
    "print(\"min :\",np.min(var))\n",
    "print(\"max :\",np.max(var))\n"
   ]
  },
  {
   "cell_type": "code",
   "execution_count": 22,
   "id": "d298a9fe-449b-4e56-b4a8-1cf4c061520d",
   "metadata": {},
   "outputs": [
    {
     "name": "stdout",
     "output_type": "stream",
     "text": [
      "min : 1 0\n",
      "max : 45 3\n"
     ]
    }
   ],
   "source": [
    "import numpy as np\n",
    "var=np.array([1,2,3,45,5,6,7])\n",
    "print(\"min :\",np.min(var),np.argmin(var))\n",
    "print(\"max :\",np.max(var),np.argmax(var))\n"
   ]
  },
  {
   "cell_type": "code",
   "execution_count": 27,
   "id": "b9606e7b-3731-46c5-a0bf-caadc40a4527",
   "metadata": {},
   "outputs": [
    {
     "name": "stdout",
     "output_type": "stream",
     "text": [
      "1\n"
     ]
    }
   ],
   "source": [
    "var1=np.array([[3,4,5],[5,1,7]])\n",
    "print(np.min(var1))"
   ]
  },
  {
   "cell_type": "code",
   "execution_count": 26,
   "id": "3d026a8e-e686-476e-8e79-ffdbd51f7e4c",
   "metadata": {},
   "outputs": [
    {
     "name": "stdout",
     "output_type": "stream",
     "text": [
      "[3 1 5]\n"
     ]
    }
   ],
   "source": [
    "var1=np.array([[3,4,5],[5,1,7]])\n",
    "print(np.min(var1,axis=0))"
   ]
  },
  {
   "cell_type": "code",
   "execution_count": 30,
   "id": "b2d2f748-6220-4128-9682-d0fa0f2bee6a",
   "metadata": {},
   "outputs": [
    {
     "name": "stdout",
     "output_type": "stream",
     "text": [
      "[[1.73205081 2.         2.23606798]\n",
      " [2.23606798 1.         2.64575131]]\n"
     ]
    }
   ],
   "source": [
    "var1=np.array([[3,4,5],[5,1,7]])\n",
    "\n",
    "print(np.sqrt(var1))"
   ]
  },
  {
   "cell_type": "code",
   "execution_count": 33,
   "id": "f05c99a0-76d1-42f4-9102-15a77748e974",
   "metadata": {},
   "outputs": [
    {
     "name": "stdout",
     "output_type": "stream",
     "text": [
      "[ 0.84147098  0.90929743  0.14112001 -0.7568025 ]\n",
      "[ 0.54030231 -0.41614684 -0.9899925  -0.65364362]\n"
     ]
    }
   ],
   "source": [
    "var2=np.array([1,2,3,4])\n",
    "print(np.sin(var2))\n",
    "print(np.cos(var2))"
   ]
  },
  {
   "cell_type": "code",
   "execution_count": 36,
   "id": "dfee0da3-ba21-480d-a36f-29796680d21c",
   "metadata": {},
   "outputs": [
    {
     "name": "stdout",
     "output_type": "stream",
     "text": [
      "[ 1  3 37 42]\n"
     ]
    }
   ],
   "source": [
    "var3=np.array([1,2,34,5])\n",
    "\n",
    "print(np.cumsum(var3))"
   ]
  },
  {
   "cell_type": "markdown",
   "id": "08a17f7d-ebff-4abe-a9df-a4b4508092d5",
   "metadata": {},
   "source": [
    "# learn about shape and reshaping in numpy arrays"
   ]
  },
  {
   "cell_type": "code",
   "execution_count": 2,
   "id": "3ea2dd36-c941-438c-a96d-421c84f8f73e",
   "metadata": {},
   "outputs": [
    {
     "name": "stdout",
     "output_type": "stream",
     "text": [
      "[[1 2]\n",
      " [3 4]]\n",
      "\n",
      "(2, 2)\n"
     ]
    }
   ],
   "source": [
    " import numpy as np\n",
    "var =np.array([[1,2],[3,4]])\n",
    "print(var)\n",
    "print()\n",
    "print(var.shape)"
   ]
  },
  {
   "cell_type": "code",
   "execution_count": 3,
   "id": "e4404fa7-bae6-445f-8520-a9eae6b3c32b",
   "metadata": {},
   "outputs": [
    {
     "name": "stdout",
     "output_type": "stream",
     "text": [
      "[[1 2 4]\n",
      " [3 4 7]]\n",
      "\n",
      "(2, 3)\n"
     ]
    }
   ],
   "source": [
    " import numpy as np\n",
    "var =np.array([[1,2,4],[3,4,7]])\n",
    "print(var)\n",
    "print()\n",
    "print(var.shape)"
   ]
  },
  {
   "cell_type": "code",
   "execution_count": 4,
   "id": "9c90ce67-bbdb-430a-8de9-505bd64bb5ae",
   "metadata": {},
   "outputs": [
    {
     "name": "stdout",
     "output_type": "stream",
     "text": [
      "[[[[[1 2]\n",
      "    [3 4]]]]]\n",
      "\n",
      "(1, 1, 1, 2, 2)\n"
     ]
    }
   ],
   "source": [
    " import numpy as np\n",
    "var =np.array([[1,2],[3,4]],ndmin=5)\n",
    "print(var)\n",
    "print()\n",
    "print(var.shape)"
   ]
  },
  {
   "cell_type": "code",
   "execution_count": 20,
   "id": "588e128a-65e0-48ee-9367-a2b2a2ce7665",
   "metadata": {},
   "outputs": [
    {
     "name": "stdout",
     "output_type": "stream",
     "text": [
      "[ 1  3 37 42  7  9]\n",
      "\n",
      "2\n",
      "[[ 1  3]\n",
      " [37 42]\n",
      " [ 7  9]]\n"
     ]
    }
   ],
   "source": [
    " import numpy as np\n",
    "var =np.array([ 1,3,37,42,7,9])\n",
    "print(var)\n",
    "print()\n",
    "x=var.reshape(3,2)\n",
    "print(x.ndim)\n",
    "\n",
    "\n",
    "print(x)"
   ]
  },
  {
   "cell_type": "markdown",
   "id": "e190f08e-3a93-4a5e-94df-25966283e765",
   "metadata": {},
   "source": [
    "# learn broadcasting in numpy arrays"
   ]
  },
  {
   "cell_type": "code",
   "execution_count": 23,
   "id": "4c6e4820-4dde-436e-baba-ffd100200638",
   "metadata": {},
   "outputs": [],
   "source": [
    "# dimension same then the working brodcasting"
   ]
  },
  {
   "cell_type": "code",
   "execution_count": 22,
   "id": "61d0c0d2-e46d-43a4-b921-9dd77e096ad6",
   "metadata": {},
   "outputs": [
    {
     "name": "stdout",
     "output_type": "stream",
     "text": [
      "[2 4 9]\n"
     ]
    }
   ],
   "source": [
    "import numpy as np\n",
    "var1=np.array([1,2,6])\n",
    "var2=np.array([1,2,3]) \n",
    "print(var1+var2)"
   ]
  },
  {
   "cell_type": "markdown",
   "id": "2f9163b2-bd48-4f99-bdaf-0420cdc12fb4",
   "metadata": {},
   "source": [
    "# indexing and slicing in numpy arrays"
   ]
  },
  {
   "cell_type": "code",
   "execution_count": 26,
   "id": "731a9297-bef3-47e3-a5bf-0ca4b327b1b0",
   "metadata": {},
   "outputs": [
    {
     "name": "stdout",
     "output_type": "stream",
     "text": [
      "9\n",
      "5\n",
      "9\n"
     ]
    }
   ],
   "source": [
    "import numpy as pd\n",
    "var=np.array([9,8,7,6,5])\n",
    "#             0,1,2,3,4 \n",
    "print(var[0])\n",
    "print(var[-1])\n",
    "print(var[-5])"
   ]
  },
  {
   "cell_type": "code",
   "execution_count": 30,
   "id": "befa763e-820c-4434-8932-84c30451ceac",
   "metadata": {},
   "outputs": [
    {
     "name": "stdout",
     "output_type": "stream",
     "text": [
      "[[ 1 44 55]\n",
      " [ 4  5 73]]\n",
      "2\n",
      "\n",
      "55\n"
     ]
    }
   ],
   "source": [
    "var1=np.array([[1,44,55],[4,5,73]])\n",
    "print(var1)\n",
    "print(var1.ndim)\n",
    "print()\n",
    "print(var1[0,2])"
   ]
  },
  {
   "cell_type": "code",
   "execution_count": 34,
   "id": "7b4386a9-8afc-4a47-9846-9296e38ee329",
   "metadata": {},
   "outputs": [
    {
     "name": "stdout",
     "output_type": "stream",
     "text": [
      "[[[ 1 44 55]\n",
      "  [ 4  5 73]]]\n",
      "3\n",
      "\n",
      "44\n"
     ]
    }
   ],
   "source": [
    "var2=np.array([[1,44,55],[4,5,73]],ndmin=3)\n",
    "print(var2)\n",
    "print(var2.ndim)\n",
    "print()\n",
    "print(var2[0,0,1])"
   ]
  },
  {
   "cell_type": "code",
   "execution_count": 35,
   "id": "8987e469-b4d1-473f-b0d2-800dfb9f285e",
   "metadata": {},
   "outputs": [
    {
     "name": "stdout",
     "output_type": "stream",
     "text": [
      "[[[ 1 44 55]\n",
      "  [ 4  5 73]]]\n",
      "3\n",
      "\n",
      "5\n"
     ]
    }
   ],
   "source": [
    "var2=np.array([[1,44,55],[4,5,73]],ndmin=3)\n",
    "print(var2)\n",
    "print(var2.ndim)\n",
    "print()\n",
    "print(var2[0,1,1])"
   ]
  },
  {
   "cell_type": "markdown",
   "id": "b660d280-22eb-4949-900e-02d4206ef0a8",
   "metadata": {},
   "source": [
    "# slicing numpy arrays"
   ]
  },
  {
   "cell_type": "code",
   "execution_count": 45,
   "id": "dbdc145a-cada-4344-b569-0f38a7a2c9d0",
   "metadata": {},
   "outputs": [
    {
     "name": "stdout",
     "output_type": "stream",
     "text": [
      "[3 5 6 7 8]\n",
      "[5 6]\n",
      "[5 6 7 8]\n",
      "[3 5 6 7 8]\n",
      "[3 6 8]\n",
      "[5 7]\n"
     ]
    }
   ],
   "source": [
    " import numpy as np\n",
    "var=np.array([3,5,6,7,8])\n",
    "#             0,1,2,3,4\n",
    "print(var)\n",
    "print(var[1:3])\n",
    "print(var[1:])\n",
    "print(var[:5])\n",
    "print(var[::2])\n",
    "print(var[1:4:2])"
   ]
  },
  {
   "cell_type": "code",
   "execution_count": 48,
   "id": "5adaccb2-0bb8-492f-9bfb-c76631eca525",
   "metadata": {},
   "outputs": [
    {
     "name": "stdout",
     "output_type": "stream",
     "text": [
      "[45  3  2  3]\n"
     ]
    }
   ],
   "source": [
    "var1=np.array([[1,2,3,4,5],[3,45,3,2,3],[2,3,4,5,5]])\n",
    "print(var1[1,1:])"
   ]
  },
  {
   "cell_type": "markdown",
   "id": "ce71bd02-5c2b-4914-a366-c4891a2d0d4e",
   "metadata": {},
   "source": [
    "# iterating numpuy arrays"
   ]
  },
  {
   "cell_type": "code",
   "execution_count": 50,
   "id": "d7439968-b558-48e0-8be5-e8e12d177b32",
   "metadata": {},
   "outputs": [
    {
     "name": "stdout",
     "output_type": "stream",
     "text": [
      "\n",
      "9\n",
      "8\n",
      "7\n",
      "6\n",
      "5\n",
      "4\n",
      "3\n",
      "3\n",
      "2\n"
     ]
    }
   ],
   "source": [
    "import numpy as np\n",
    "var=np.array([9,8,7,6,5,4,3,3,2])\n",
    "print()\n",
    "for i in var:\n",
    "    print(i)"
   ]
  },
  {
   "cell_type": "code",
   "execution_count": 56,
   "id": "fa224f57-1aa9-439c-bbde-96e2cafef172",
   "metadata": {},
   "outputs": [
    {
     "name": "stdout",
     "output_type": "stream",
     "text": [
      "[[1 3 4 5 6]\n",
      " [1 2 3 4 5]]\n",
      "\n",
      "[1 3 4 5 6]\n",
      "[1 2 3 4 5]\n",
      "\n",
      "1\n",
      "3\n",
      "4\n",
      "5\n",
      "6\n",
      "1\n",
      "2\n",
      "3\n",
      "4\n",
      "5\n"
     ]
    }
   ],
   "source": [
    "var1=np.array([[1,3,4,5,6],[1,2,3,4,5]])\n",
    "print(var1)\n",
    "print()\n",
    "for j in var1:\n",
    "    print(j)\n",
    "print()\n",
    "\n",
    "\n",
    "for k in var1:\n",
    "    for l in k:\n",
    "        print(l)"
   ]
  },
  {
   "cell_type": "code",
   "execution_count": 57,
   "id": "e22d7ae9-b9b7-4d63-9328-4da3d37b6884",
   "metadata": {},
   "outputs": [
    {
     "name": "stdout",
     "output_type": "stream",
     "text": [
      "[[1 3 4 5 6]\n",
      " [1 2 3 4 5]]\n",
      "\n",
      "9\n",
      "8\n",
      "7\n",
      "6\n",
      "5\n",
      "4\n",
      "3\n",
      "3\n",
      "2\n"
     ]
    }
   ],
   "source": [
    "var1=np.array([[1,3,4,5,6],[1,2,3,4,5]])\n",
    "print(var1)\n",
    "print()\n",
    "for j in np.nditer(var):\n",
    "    print(j)\n",
    "\n",
    "    "
   ]
  },
  {
   "cell_type": "code",
   "execution_count": 59,
   "id": "cf724bd6-6676-4eb9-800e-d9b55da0c772",
   "metadata": {},
   "outputs": [
    {
     "name": "stdout",
     "output_type": "stream",
     "text": [
      "[[1 3 4 5 6]\n",
      " [1 2 3 4 5]]\n",
      "\n",
      "(0, 0) 1\n",
      "(0, 1) 3\n",
      "(0, 2) 4\n",
      "(0, 3) 5\n",
      "(0, 4) 6\n",
      "(1, 0) 1\n",
      "(1, 1) 2\n",
      "(1, 2) 3\n",
      "(1, 3) 4\n",
      "(1, 4) 5\n"
     ]
    }
   ],
   "source": [
    "var1=np.array([[1,3,4,5,6],[1,2,3,4,5]])\n",
    "print(var1)\n",
    "print()\n",
    "for i,d in np.ndenumerate(var1):\n",
    "    print(i,d)\n"
   ]
  },
  {
   "cell_type": "markdown",
   "id": "71a3e113-e65f-46b5-888d-819c490321b5",
   "metadata": {},
   "source": [
    "# copy vs view in numpy arrays"
   ]
  },
  {
   "cell_type": "code",
   "execution_count": 63,
   "id": "4853ff1e-5f57-46a5-b0d0-fcda997e406f",
   "metadata": {},
   "outputs": [
    {
     "name": "stdout",
     "output_type": "stream",
     "text": [
      "var :  [ 2  4 34  6]\n",
      "var: [2 4 5 6]\n"
     ]
    }
   ],
   "source": [
    "import numpy as np\n",
    "var=np.array([2,4,5,6])\n",
    "\n",
    "co=var.copy()\n",
    "var[2]=34\n",
    "print(\"var : \", var)\n",
    "print(\"var:\",co)\n"
   ]
  },
  {
   "cell_type": "code",
   "execution_count": 64,
   "id": "c22d7de8-ab4d-4a36-8856-a5461dba2070",
   "metadata": {},
   "outputs": [
    {
     "name": "stdout",
     "output_type": "stream",
     "text": [
      "var :  [ 2 67  5  6]\n",
      "var: [ 2 67  5  6]\n"
     ]
    }
   ],
   "source": [
    "import numpy as np\n",
    "var=np.array([2,4,5,6])\n",
    "vie=var.view()\n",
    "var[1]=67\n",
    "print(\"var : \", var)\n",
    "print(\"var:\",vie)"
   ]
  },
  {
   "cell_type": "markdown",
   "id": "9e0a5ae5-8c28-4648-86c2-194444295e67",
   "metadata": {},
   "source": [
    "# joining and split in  Numpy arrarys"
   ]
  },
  {
   "cell_type": "code",
   "execution_count": 65,
   "id": "5d1ae26b-b38e-43c6-931a-ea530bda750d",
   "metadata": {},
   "outputs": [
    {
     "name": "stdout",
     "output_type": "stream",
     "text": [
      "[12  2  3  4  5  6 33 44  5  6  7  8]\n"
     ]
    }
   ],
   "source": [
    "   import numpy as np\n",
    "var=np.array([12,2,3,4,5,6])\n",
    "var1=np.array([33,44,5,6,7,8])\n",
    "ar=np.concatenate((var,var1))\n",
    "print(ar)  "
   ]
  },
  {
   "cell_type": "code",
   "execution_count": 71,
   "id": "f29a44f1-db7e-4c07-a9f6-8f34dce0fbc7",
   "metadata": {},
   "outputs": [
    {
     "name": "stdout",
     "output_type": "stream",
     "text": [
      "[[12  3]\n",
      " [ 4  6]\n",
      " [33 44]\n",
      " [ 5  6]]\n"
     ]
    }
   ],
   "source": [
    "   import numpy as np\n",
    "vr=np.array([[12,3],\n",
    "             [4,6]])\n",
    "var1=np.array([[33,44],\n",
    "               [5,6,]])\n",
    "ar_new=np.concatenate((vr,var1),axis=0)\n",
    "print(ar_new)"
   ]
  },
  {
   "cell_type": "code",
   "execution_count": 72,
   "id": "17e4bb3d-268d-447e-981e-24cea5604c5a",
   "metadata": {},
   "outputs": [
    {
     "name": "stdout",
     "output_type": "stream",
     "text": [
      "[[12  3 33 44]\n",
      " [ 4  6  5  6]]\n"
     ]
    }
   ],
   "source": [
    "   import numpy as np\n",
    "vr=np.array([[12,3],\n",
    "             [4,6]])\n",
    "var1=np.array([[33,44],\n",
    "               [5,6,]])\n",
    "ar_new=np.concatenate((vr,var1),axis=1)\n",
    "print(ar_new)"
   ]
  },
  {
   "cell_type": "code",
   "execution_count": 76,
   "id": "a25e2f52-3be6-4da9-8672-a3d8f31aabf0",
   "metadata": {},
   "outputs": [
    {
     "name": "stdout",
     "output_type": "stream",
     "text": [
      "[[[12  3]\n",
      "  [33 44]]\n",
      "\n",
      " [[ 4  6]\n",
      "  [ 5  6]]]\n"
     ]
    }
   ],
   "source": [
    " import numpy as np\n",
    "vr=np.array([[12,3],\n",
    "             [4,6]]) \n",
    "var1=np.array([[33,44],\n",
    "               [5,6,]])\n",
    "ar_ne=np.stack((vr,var1),axis=1)\n",
    "print(ar_ne)"
   ]
  },
  {
   "cell_type": "code",
   "execution_count": 80,
   "id": "2b6e6c5e-ff2d-495f-beee-1b6675bbaf4c",
   "metadata": {},
   "outputs": [
    {
     "name": "stdout",
     "output_type": "stream",
     "text": [
      "[[12  3]\n",
      " [ 4  6]\n",
      " [33 44]\n",
      " [ 5  6]]\n"
     ]
    }
   ],
   "source": [
    "import numpy as np\n",
    "vr=np.array([[12,3],\n",
    "             [4,6]]) \n",
    "var1=np.array([[33,44],\n",
    "               [5,6,]])\n",
    "ar_ne=np.vstack((vr,var1))\n",
    "print(ar_ne)"
   ]
  },
  {
   "cell_type": "code",
   "execution_count": 82,
   "id": "ce052562-dbca-4e83-98c7-cc461a505eba",
   "metadata": {},
   "outputs": [
    {
     "name": "stdout",
     "output_type": "stream",
     "text": [
      "[[12  3 33 44]\n",
      " [ 4  6  5  6]]\n"
     ]
    }
   ],
   "source": [
    "import numpy as np\n",
    "vr=np.array([[12,3],\n",
    "             [4,6]]) \n",
    "var1=np.array([[33,44],\n",
    "               [5,6,]])\n",
    "ar_ne=np.hstack((vr,var1))\n",
    "print(ar_ne)"
   ]
  },
  {
   "cell_type": "markdown",
   "id": "b078666a-55d2-4c9a-89b0-17022d1ac554",
   "metadata": {},
   "source": [
    "# split array"
   ]
  },
  {
   "cell_type": "code",
   "execution_count": 85,
   "id": "f40a5740-ecdc-4f03-9607-29b0ac90d8fe",
   "metadata": {},
   "outputs": [
    {
     "name": "stdout",
     "output_type": "stream",
     "text": [
      "[[ 1  2]\n",
      " [45  5]]\n",
      "[array([[1, 2]]), array([[45,  5]])]\n"
     ]
    }
   ],
   "source": [
    "import numpy as np\n",
    "var=np.array([[1,2],[45,5]])\n",
    "print(var)\n",
    "ar=np.array_split(var,2)\n",
    "print(ar)"
   ]
  },
  {
   "cell_type": "markdown",
   "id": "7b5e0e3f-644d-46da-935f-a3771c3c3cde",
   "metadata": {},
   "source": [
    "# numpy array function"
   ]
  },
  {
   "cell_type": "code",
   "execution_count": 86,
   "id": "d032a81e-a2c8-43c7-9d6b-76cd6515d889",
   "metadata": {},
   "outputs": [
    {
     "name": "stdout",
     "output_type": "stream",
     "text": [
      "(array([ 1,  9, 10, 14, 15]),)\n"
     ]
    }
   ],
   "source": [
    "import numpy as np\n",
    "var=np.array([1,2,3,4,5,6,7,8,3,2,2,345,334,56,2,2])\n",
    "x=np.where(var==2)\n",
    "print(x)"
   ]
  },
  {
   "cell_type": "code",
   "execution_count": 93,
   "id": "39916b6c-1d0d-4550-aa15-9acb5dcb3efe",
   "metadata": {},
   "outputs": [
    {
     "name": "stdout",
     "output_type": "stream",
     "text": [
      "(array([ 1,  3,  5,  7,  9, 10, 12, 13, 14, 15]),)\n"
     ]
    }
   ],
   "source": [
    "import numpy as np\n",
    "var=np.array([1,2,3,4,5,6,7,8,3,2,2,345,334,56,2,2])\n",
    "x=np.where(var%2==0)\n",
    "print(x)"
   ]
  },
  {
   "cell_type": "code",
   "execution_count": 99,
   "id": "c5411641-1219-4fd9-8e1a-da4539667bd6",
   "metadata": {},
   "outputs": [
    {
     "name": "stdout",
     "output_type": "stream",
     "text": [
      "11\n"
     ]
    }
   ],
   "source": [
    "import numpy as np\n",
    "var1=np.array([1,2,3,4,5,6,7,8,3,2,2,345,334,56])\n",
    "x1=np.searchsorted(var1,23,side=\"right\")\n",
    "print(x1)"
   ]
  },
  {
   "cell_type": "code",
   "execution_count": 101,
   "id": "96fba6e9-5978-4d08-80df-40026c7b2bdb",
   "metadata": {},
   "outputs": [
    {
     "name": "stdout",
     "output_type": "stream",
     "text": [
      "11\n"
     ]
    }
   ],
   "source": [
    "import numpy as np\n",
    "var1=np.array([1,2,3,4,5,6,7,8,3,2,2,345,334,56])\n",
    "x1=np.searchsorted(var1,23,side=\"left\")\n",
    "print(x1)"
   ]
  },
  {
   "cell_type": "code",
   "execution_count": 108,
   "id": "01ea6cfb-9bbf-4666-83ad-fd2e4a61f057",
   "metadata": {},
   "outputs": [
    {
     "name": "stdout",
     "output_type": "stream",
     "text": [
      "[3 3 9]\n"
     ]
    }
   ],
   "source": [
    "import numpy as np\n",
    "var1=np.array([1,2,3,45,5,6,447,8,3,345,334,56])\n",
    "x1=np.searchsorted(var1,[3,4,64],side=\"right\")\n",
    "print(x1)"
   ]
  },
  {
   "cell_type": "markdown",
   "id": "b99e1e85-a66c-4dd4-94e1-9107ef590298",
   "metadata": {},
   "source": [
    "# sort"
   ]
  },
  {
   "cell_type": "code",
   "execution_count": 109,
   "id": "4b90f843-f674-4133-9395-ed40962d13b3",
   "metadata": {},
   "outputs": [
    {
     "name": "stdout",
     "output_type": "stream",
     "text": [
      "[  1   2   3   3   5   6   8  45  56 334 345 447]\n"
     ]
    }
   ],
   "source": [
    "var1=np.array([1,2,3,45,5,6,447,8,3,345,334,56])\n",
    "print(np.sort(var1))"
   ]
  },
  {
   "cell_type": "code",
   "execution_count": 110,
   "id": "198a00ee-0982-4b30-b6b0-a427bdf4e3f4",
   "metadata": {},
   "outputs": [
    {
     "name": "stdout",
     "output_type": "stream",
     "text": [
      "['a' 'c' 'd' 'g' 'k' 's' 't' 'y']\n"
     ]
    }
   ],
   "source": [
    "var1=np.array(['d','t','y','g','c','a','k','s'])\n",
    "print(np.sort(var1))"
   ]
  },
  {
   "cell_type": "code",
   "execution_count": 111,
   "id": "8c54cbad-8d88-4f91-8257-9dc6bea0bfbf",
   "metadata": {},
   "outputs": [
    {
     "name": "stdout",
     "output_type": "stream",
     "text": [
      "[[  1   2   3]\n",
      " [  5   6  45]\n",
      " [  3   8 447]\n",
      " [ 56 334 345]]\n"
     ]
    }
   ],
   "source": [
    "var1=np.array([[1,2,3],[45,5,6],[447,8,3],[345,334,56]])\n",
    "print(np.sort(var1))"
   ]
  },
  {
   "cell_type": "code",
   "execution_count": 7,
   "id": "e89696b6-8038-43db-b092-116fe605a65e",
   "metadata": {},
   "outputs": [
    {
     "name": "stdout",
     "output_type": "stream",
     "text": [
      "[False  True  True False  True]\n",
      "[55 70 90]\n"
     ]
    }
   ],
   "source": [
    "import numpy as np\n",
    "marks=np.array([30,55,70,25,90])\n",
    "condition=marks>40\n",
    "print(condition)\n",
    "x=marks[[False,True,True,False,True]]\n",
    "print(x)\n"
   ]
  },
  {
   "cell_type": "markdown",
   "id": "1efdf99f-f330-4d99-abe8-8c4040899aa8",
   "metadata": {},
   "source": [
    "# arithmetic functions"
   ]
  },
  {
   "cell_type": "code",
   "execution_count": 11,
   "id": "7f3bf67d-d69c-418c-a0f2-bdfa89830d9a",
   "metadata": {},
   "outputs": [
    {
     "name": "stdout",
     "output_type": "stream",
     "text": [
      "[3 5 2 1 4]\n"
     ]
    }
   ],
   "source": [
    "import numpy as np\n",
    "var=np.array([1,2,3,4,5])\n",
    "np.random.shuffle(var)\n",
    "print(var)"
   ]
  },
  {
   "cell_type": "code",
   "execution_count": 14,
   "id": "a5c40857-7fd5-4f2f-bceb-31c9fdb28494",
   "metadata": {},
   "outputs": [
    {
     "name": "stdout",
     "output_type": "stream",
     "text": [
      "(array([1, 2, 3, 4, 5]), array([0, 1, 2, 3, 4]))\n"
     ]
    }
   ],
   "source": [
    "import numpy as np\n",
    "var1=np.array([1,2,3,4,5,2,3,5])\n",
    "x=np.unique(var1,return_index=True)\n",
    "print(x)"
   ]
  },
  {
   "cell_type": "code",
   "execution_count": 22,
   "id": "07226bfb-c468-4402-9fe7-9b80454413c4",
   "metadata": {},
   "outputs": [
    {
     "name": "stdout",
     "output_type": "stream",
     "text": [
      "\n",
      "[[3 5 2 1]\n",
      " [4 3 5 2]]\n",
      "[1 2 3 4 5 2 3 5]\n",
      "[3 5 2 1 4]\n",
      "[1 2 3 4 5 2 3 5]\n"
     ]
    }
   ],
   "source": [
    "var1=np.array([1,2,3,4,5,2,3,5])\n",
    "y=np.resize(var,(2,4))\n",
    "print()\n",
    "print(y)\n",
    "print(var1.flatten())\n",
    "print(var)\n",
    "r=var1.ravel()\n",
    "print(r)"
   ]
  },
  {
   "cell_type": "markdown",
   "id": "f0308cf8-433a-48ef-a0a1-36a3ad14eaab",
   "metadata": {},
   "source": [
    "# insert and delete function"
   ]
  },
  {
   "cell_type": "code",
   "execution_count": 25,
   "id": "aa1a5004-45f0-4d0e-aa2d-ea2d477dae1b",
   "metadata": {},
   "outputs": [
    {
     "name": "stdout",
     "output_type": "stream",
     "text": [
      "[ 34   1   3  45   5 233   6   7]\n"
     ]
    }
   ],
   "source": [
    "import numpy as np\n",
    "var=np.array([1,3,45,5,6,7])\n",
    "v=np.insert(var,(4,0),(233,34.4))\n",
    "print(v)"
   ]
  },
  {
   "cell_type": "code",
   "execution_count": 37,
   "id": "8b9ca8d3-83f0-48a2-8343-fa88b59cacf3",
   "metadata": {},
   "outputs": [
    {
     "name": "stdout",
     "output_type": "stream",
     "text": [
      "[[44  4  6]\n",
      " [ 1  3 45]\n",
      " [ 5  6  7]]\n",
      "\n",
      "[[  1   3  45]\n",
      " [  5   6   7]\n",
      " [ 33  44 550]\n",
      " [ 34  55  66]]\n"
     ]
    }
   ],
   "source": [
    "import numpy as np\n",
    "var=np.array([[1,3,45],[5,6,7]])\n",
    "v=np.insert(var,0,[44,4,6],axis=0)\n",
    "print(v)\n",
    "c1=np.append(var,[[33,44,550],[34,55,66]],axis=0)\n",
    "print()\n",
    "print(c1)"
   ]
  },
  {
   "cell_type": "code",
   "execution_count": 40,
   "id": "776f1fcb-9742-4ad2-a9ff-cebff261d802",
   "metadata": {},
   "outputs": [
    {
     "name": "stdout",
     "output_type": "stream",
     "text": [
      "[ 1  3 45  5  6  7]\n",
      "[1 3 5 6 7]\n"
     ]
    }
   ],
   "source": [
    "import numpy as np\n",
    "var=np.array([1,3,45,5,6,7])\n",
    "print(var)\n",
    "d=np.delete(var,2)\n",
    "print(d)"
   ]
  },
  {
   "cell_type": "markdown",
   "id": "2edb977a-5de8-4c24-aa2a-fe4a9af3eaa9",
   "metadata": {},
   "source": [
    "# matrix "
   ]
  },
  {
   "cell_type": "code",
   "execution_count": 44,
   "id": "578f64c7-af13-41ee-a57a-617c46a84600",
   "metadata": {},
   "outputs": [
    {
     "name": "stdout",
     "output_type": "stream",
     "text": [
      "<class 'numpy.matrix'>\n",
      "[[2 4 6]\n",
      " [2 4 6]]\n"
     ]
    }
   ],
   "source": [
    "import numpy as np\n",
    "var=np.matrix([[1,2,3],[1,2,3]])\n",
    "var1=np.matrix([[1,2,3],[1,2,3]])\n",
    "\n",
    "print(type(var))\n",
    "print(var+var1)\n"
   ]
  },
  {
   "cell_type": "code",
   "execution_count": 42,
   "id": "729a6355-c79e-4cd1-b670-ca0bf5e4a486",
   "metadata": {},
   "outputs": [
    {
     "name": "stdout",
     "output_type": "stream",
     "text": [
      "<class 'numpy.ndarray'>\n"
     ]
    }
   ],
   "source": [
    "import numpy as np\n",
    "var=np.array([[1,2,3],[1,2,3]])\n",
    "print(type(var))"
   ]
  },
  {
   "cell_type": "code",
   "execution_count": 54,
   "id": "ff7b00d9-1aa0-4165-b2d9-cbdc2c64d14a",
   "metadata": {},
   "outputs": [
    {
     "name": "stdout",
     "output_type": "stream",
     "text": [
      "<class 'numpy.matrix'>\n",
      "[[702 141 252]\n",
      " [702 141 252]]\n",
      "\n"
     ]
    },
    {
     "ename": "NameError",
     "evalue": "name 'var2' is not defined",
     "output_type": "error",
     "traceback": [
      "\u001b[1;31m---------------------------------------------------------------------------\u001b[0m",
      "\u001b[1;31mNameError\u001b[0m                                 Traceback (most recent call last)",
      "Cell \u001b[1;32mIn[54], line 8\u001b[0m\n\u001b[0;32m      6\u001b[0m \u001b[38;5;28mprint\u001b[39m(var\u001b[38;5;241m*\u001b[39mvar1)\n\u001b[0;32m      7\u001b[0m \u001b[38;5;28mprint\u001b[39m()\n\u001b[1;32m----> 8\u001b[0m \u001b[38;5;28mprint\u001b[39m(np\u001b[38;5;241m.\u001b[39mdot(var,var2))\n",
      "\u001b[1;31mNameError\u001b[0m: name 'var2' is not defined"
     ]
    }
   ],
   "source": [
    "import numpy as np\n",
    "var=np.matrix([[1,2,3],[1,2,3]])\n",
    "var1=np.matrix([[1,2,54],[1,5,3],[233,43,22]])\n",
    "\n",
    "print(type(var))\n",
    "print(var*var1)\n",
    "print()\n",
    "print(var.dot(var1))"
   ]
  },
  {
   "cell_type": "code",
   "execution_count": 66,
   "id": "bc077d9b-8aab-4ff5-a9eb-001b16c8f2ca",
   "metadata": {},
   "outputs": [
    {
     "name": "stdout",
     "output_type": "stream",
     "text": [
      "<class 'numpy.matrix'>\n",
      "[[  52 1262 3039]\n",
      " [  52 1262 3039]]\n",
      "\n",
      "[[  52 1262 3039]\n",
      " [  52 1262 3039]]\n",
      "\n",
      "[[ 1  1]\n",
      " [45 45]\n",
      " [ 3  3]]\n",
      "\n"
     ]
    },
    {
     "ename": "TypeError",
     "evalue": "swapaxes() missing 2 required positional arguments: 'axis1' and 'axis2'",
     "output_type": "error",
     "traceback": [
      "\u001b[1;31m---------------------------------------------------------------------------\u001b[0m",
      "\u001b[1;31mTypeError\u001b[0m                                 Traceback (most recent call last)",
      "Cell \u001b[1;32mIn[66], line 12\u001b[0m\n\u001b[0;32m     10\u001b[0m \u001b[38;5;28mprint\u001b[39m(np\u001b[38;5;241m.\u001b[39mtranspose(var))\n\u001b[0;32m     11\u001b[0m \u001b[38;5;28mprint\u001b[39m()\n\u001b[1;32m---> 12\u001b[0m \u001b[38;5;28mprint\u001b[39m(np\u001b[38;5;241m.\u001b[39mswapaxes(var))\n\u001b[0;32m     13\u001b[0m \u001b[38;5;28mprint\u001b[39m(np\u001b[38;5;241m.\u001b[39mlinalg\u001b[38;5;241m.\u001b[39minv(var1))\n",
      "\u001b[1;31mTypeError\u001b[0m: swapaxes() missing 2 required positional arguments: 'axis1' and 'axis2'"
     ]
    }
   ],
   "source": [
    "import numpy as np\n",
    "var=np.matrix([[1,45,3],[1,45,3]])\n",
    "var1=np.matrix([[1,2,54],[1,5,66],[2,345,5]])\n",
    "\n",
    "print(type(var))\n",
    "print(var*var1)\n",
    "print()\n",
    "print(var.dot(var1))\n",
    "print()\n",
    "print(np.transpose(var))\n",
    "print()\n",
    "print(np.swapaxes(var))\n"
   ]
  },
  {
   "cell_type": "code",
   "execution_count": 78,
   "id": "dfe5f615-4f95-484f-84ea-ae7c7e7fd44a",
   "metadata": {},
   "outputs": [
    {
     "name": "stdout",
     "output_type": "stream",
     "text": [
      "[[ 5.16814360e+00 -4.23085662e+00  3.13565099e-02]\n",
      " [-2.88570779e-02  2.34037719e-02  2.72665303e-03]\n",
      " [-7.61190638e-02  7.74823904e-02 -6.81663258e-04]]\n",
      "\n",
      "[[  111 18642   456]\n",
      " [  138 22797   714]\n",
      " [  357  3454 22903]]\n",
      "\n",
      "-4401.000000000005\n"
     ]
    }
   ],
   "source": [
    "import numpy as np\n",
    "\n",
    "var1=np.matrix([[1,2,54],[1,5,66],[2,345,5]])\n",
    "print(np.linalg.inv(var1))\n",
    "print()\n",
    "print(np.linalg.matrix_power(var1,2))\n",
    "print()\n",
    "print(np.linalg.det(var1))"
   ]
  },
  {
   "cell_type": "code",
   "execution_count": null,
   "id": "df9ec942-6e8c-41bd-a00f-2e3fcb9765b3",
   "metadata": {},
   "outputs": [],
   "source": []
  }
 ],
 "metadata": {
  "kernelspec": {
   "display_name": "Python 3 (ipykernel)",
   "language": "python",
   "name": "python3"
  },
  "language_info": {
   "codemirror_mode": {
    "name": "ipython",
    "version": 3
   },
   "file_extension": ".py",
   "mimetype": "text/x-python",
   "name": "python",
   "nbconvert_exporter": "python",
   "pygments_lexer": "ipython3",
   "version": "3.13.5"
  }
 },
 "nbformat": 4,
 "nbformat_minor": 5
}
